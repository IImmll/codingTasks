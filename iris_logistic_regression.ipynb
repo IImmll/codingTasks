{
 "cells": [
  {
   "cell_type": "markdown",
   "id": "837c7875",
   "metadata": {},
   "source": [
    "# Iris Logistic Regression\n"
   ]
  },
  {
   "cell_type": "code",
   "execution_count": 4,
   "id": "993ac9e9",
   "metadata": {},
   "outputs": [
    {
     "data": {
      "text/html": [
       "<div>\n",
       "<style scoped>\n",
       "    .dataframe tbody tr th:only-of-type {\n",
       "        vertical-align: middle;\n",
       "    }\n",
       "\n",
       "    .dataframe tbody tr th {\n",
       "        vertical-align: top;\n",
       "    }\n",
       "\n",
       "    .dataframe thead th {\n",
       "        text-align: right;\n",
       "    }\n",
       "</style>\n",
       "<table border=\"1\" class=\"dataframe\">\n",
       "  <thead>\n",
       "    <tr style=\"text-align: right;\">\n",
       "      <th></th>\n",
       "      <th>Id</th>\n",
       "      <th>SepalLengthCm</th>\n",
       "      <th>SepalWidthCm</th>\n",
       "      <th>PetalLengthCm</th>\n",
       "      <th>PetalWidthCm</th>\n",
       "      <th>Species</th>\n",
       "    </tr>\n",
       "  </thead>\n",
       "  <tbody>\n",
       "    <tr>\n",
       "      <th>0</th>\n",
       "      <td>1</td>\n",
       "      <td>5.1</td>\n",
       "      <td>3.5</td>\n",
       "      <td>1.4</td>\n",
       "      <td>0.2</td>\n",
       "      <td>Iris-setosa</td>\n",
       "    </tr>\n",
       "    <tr>\n",
       "      <th>1</th>\n",
       "      <td>2</td>\n",
       "      <td>4.9</td>\n",
       "      <td>3.0</td>\n",
       "      <td>1.4</td>\n",
       "      <td>0.2</td>\n",
       "      <td>Iris-setosa</td>\n",
       "    </tr>\n",
       "    <tr>\n",
       "      <th>2</th>\n",
       "      <td>3</td>\n",
       "      <td>4.7</td>\n",
       "      <td>3.2</td>\n",
       "      <td>1.3</td>\n",
       "      <td>0.2</td>\n",
       "      <td>Iris-setosa</td>\n",
       "    </tr>\n",
       "    <tr>\n",
       "      <th>3</th>\n",
       "      <td>4</td>\n",
       "      <td>4.6</td>\n",
       "      <td>3.1</td>\n",
       "      <td>1.5</td>\n",
       "      <td>0.2</td>\n",
       "      <td>Iris-setosa</td>\n",
       "    </tr>\n",
       "    <tr>\n",
       "      <th>4</th>\n",
       "      <td>5</td>\n",
       "      <td>5.0</td>\n",
       "      <td>3.6</td>\n",
       "      <td>1.4</td>\n",
       "      <td>0.2</td>\n",
       "      <td>Iris-setosa</td>\n",
       "    </tr>\n",
       "  </tbody>\n",
       "</table>\n",
       "</div>"
      ],
      "text/plain": [
       "   Id  SepalLengthCm  SepalWidthCm  PetalLengthCm  PetalWidthCm      Species\n",
       "0   1            5.1           3.5            1.4           0.2  Iris-setosa\n",
       "1   2            4.9           3.0            1.4           0.2  Iris-setosa\n",
       "2   3            4.7           3.2            1.3           0.2  Iris-setosa\n",
       "3   4            4.6           3.1            1.5           0.2  Iris-setosa\n",
       "4   5            5.0           3.6            1.4           0.2  Iris-setosa"
      ]
     },
     "execution_count": 4,
     "metadata": {},
     "output_type": "execute_result"
    }
   ],
   "source": [
    "import pandas as pd\n",
    "from sklearn.linear_model import LogisticRegression\n",
    "from sklearn.metrics import confusion_matrix, accuracy_score, precision_score, recall_score\n",
    "\n",
    "\n",
    "iris_data = pd.read_csv('/Users/jv/desktop/Iris.csv')\n",
    "iris_data.head()"
   ]
  },
  {
   "cell_type": "markdown",
   "id": "bfe9af49",
   "metadata": {},
   "source": [
    "## Step 1: Load the Dataset\n",
    "\n",
    "We load the Iris dataset and display the first few rows to understand its structure."
   ]
  },
  {
   "cell_type": "code",
   "execution_count": 2,
   "id": "4c73f51c",
   "metadata": {},
   "outputs": [
    {
     "data": {
      "text/plain": [
       "(     SepalLengthCm  SepalWidthCm  PetalLengthCm  PetalWidthCm\n",
       " 81             5.5           2.4            3.7           1.0\n",
       " 133            6.3           2.8            5.1           1.5\n",
       " 137            6.4           3.1            5.5           1.8\n",
       " 75             6.6           3.0            4.4           1.4\n",
       " 109            7.2           3.6            6.1           2.5,\n",
       " 81     1\n",
       " 133    1\n",
       " 137    1\n",
       " 75     1\n",
       " 109    1\n",
       " Name: Encoded_Species, dtype: int64)"
      ]
     },
     "execution_count": 2,
     "metadata": {},
     "output_type": "execute_result"
    }
   ],
   "source": [
    "from sklearn.model_selection import train_test_split\n",
    "iris_data['Encoded_Species'] = (iris_data['Species'] != 'Iris-setosa').astype(int)\n",
    "X = iris_data[['SepalLengthCm', 'SepalWidthCm', 'PetalLengthCm', 'PetalWidthCm']]\n",
    "y = iris_data['Encoded_Species']\n",
    "X_train, X_test, y_train, y_test = train_test_split(X, y, test_size=0.3, random_state=42)\n",
    "X_train.head(), y_train.head()"
   ]
  },
  {
   "cell_type": "markdown",
   "id": "272b5e68",
   "metadata": {},
   "source": [
    "## Step 2: Preprocessing\n",
    "\n",
    "Encode the 'Species' column where 'Iris-setosa' is 0 and other species are 1. \n",
    "Split the dataset into independent variables (features) and dependent variable (target), and then into training and testing sets."
   ]
  },
  {
   "cell_type": "code",
   "execution_count": 3,
   "id": "ee3bb363",
   "metadata": {},
   "outputs": [
    {
     "data": {
      "text/plain": [
       "(array([[19,  0],\n",
       "        [ 0, 26]]),\n",
       " 1.0,\n",
       " 1.0,\n",
       " 1.0)"
      ]
     },
     "execution_count": 3,
     "metadata": {},
     "output_type": "execute_result"
    }
   ],
   "source": [
    "from sklearn.linear_model import LogisticRegression\n",
    "from sklearn.metrics import confusion_matrix, accuracy_score, precision_score, recall_score\n",
    "log_reg = LogisticRegression(random_state=42)\n",
    "log_reg.fit(X_train, y_train)\n",
    "y_pred = log_reg.predict(X_test)\n",
    "conf_matrix = confusion_matrix(y_test, y_pred)\n",
    "accuracy = accuracy_score(y_test, y_pred)\n",
    "precision = precision_score(y_test, y_pred)\n",
    "recall = recall_score(y_test, y_pred)\n",
    "conf_matrix, accuracy, precision, recall"
   ]
  },
  {
   "cell_type": "markdown",
   "id": "39fde792",
   "metadata": {},
   "source": [
    "## Step 3: Logistic Regression Model\n",
    "\n",
    "Fit a logistic regression model using the training data and make predictions on the test data."
   ]
  },
  {
   "cell_type": "code",
   "execution_count": 7,
   "id": "89dd540a",
   "metadata": {},
   "outputs": [],
   "source": [
    "# Initialize and fit the logistic regression model\n",
    "log_reg = LogisticRegression(random_state=42)\n",
    "log_reg.fit(X_train, y_train)\n",
    "\n",
    "# Predict on the test set\n",
    "y_pred = log_reg.predict(X_test)"
   ]
  },
  {
   "cell_type": "markdown",
   "id": "324eae93",
   "metadata": {},
   "source": [
    "## Step 4: Evaluation\n",
    "\n",
    "Generate a confusion matrix and calculate accuracy, precision, and recall to evaluate the model."
   ]
  },
  {
   "cell_type": "code",
   "execution_count": 8,
   "id": "5b29c41f",
   "metadata": {},
   "outputs": [
    {
     "name": "stdout",
     "output_type": "stream",
     "text": [
      "Accuracy: 1.0\n",
      "Precision: 1.0\n",
      "Recall: 1.0\n"
     ]
    }
   ],
   "source": [
    "# Generate the confusion matrix\n",
    "conf_matrix = confusion_matrix(y_test, y_pred)\n",
    "\n",
    "# Calculate accuracy, precision, and recall\n",
    "accuracy = accuracy_score(y_test, y_pred)\n",
    "precision = precision_score(y_test, y_pred)\n",
    "recall = recall_score(y_test, y_pred)\n",
    "\n",
    "print('Accuracy:', accuracy)\n",
    "print('Precision:', precision)\n",
    "print('Recall:', recall)"
   ]
  },
  {
   "cell_type": "markdown",
   "id": "3ef0b1d3",
   "metadata": {},
   "source": [
    "### Confusion Matrix\n",
    "True Positives (TP): 26 (correctly predicted as not Iris-setosa)\n",
    "True Negatives (TN): 19 (correctly predicted as Iris-setosa)\n",
    "False Positives (FP): 0 (no instances of Iris-setosa incorrectly classified)\n",
    "False Negatives (FN): 0 (no instances of other species incorrectly classified as Iris-setosa)\n",
    "\n",
    "### Evaluation Metrics\n",
    "Accuracy: 1.0 (100% of predictions were correct)\n",
    "Precision: 1.0 (When the model predicted a class other than Iris-setosa, it was always correct)\n",
    "Recall: 1.0 (It correctly identified all instances of classes other than Iris-setosa)\n",
    "\n",
    "### Analysis\n",
    "The model achieved perfect scores in accuracy, precision, and recall, indicating that it was able to distinguish between Iris-setosa and other species without any errors. This result suggests a balanced and highly effective model for this dataset. In real-world scenarios, achieving such results might be rare and could also indicate overfitting, especially with more complex or noisy datasets. However, the Iris dataset is known for being relatively clean and well-behaved, which often allows for excellent model performance"
   ]
  },
  {
   "cell_type": "code",
   "execution_count": null,
   "id": "b507c775",
   "metadata": {},
   "outputs": [],
   "source": []
  }
 ],
 "metadata": {
  "kernelspec": {
   "display_name": "Python 3 (ipykernel)",
   "language": "python",
   "name": "python3"
  },
  "language_info": {
   "codemirror_mode": {
    "name": "ipython",
    "version": 3
   },
   "file_extension": ".py",
   "mimetype": "text/x-python",
   "name": "python",
   "nbconvert_exporter": "python",
   "pygments_lexer": "ipython3",
   "version": "3.11.7"
  }
 },
 "nbformat": 4,
 "nbformat_minor": 5
}
